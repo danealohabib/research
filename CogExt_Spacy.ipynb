{
 "cells": [
  {
   "cell_type": "markdown",
   "metadata": {},
   "source": [
    "# Cognitive Extent: Extension (II) -- NLP w/ Spacy\n"
   ]
  },
  {
   "cell_type": "markdown",
   "metadata": {},
   "source": [
    "## Housekeeping"
   ]
  },
  {
   "cell_type": "code",
   "execution_count": 276,
   "metadata": {},
   "outputs": [],
   "source": [
    "import pandas as pd\n",
    "import numpy as np\n",
    "from functools import partial\n",
    "pd.options.display.max_colwidth = 200\n",
    "pd.options.display.max_rows = 1000\n",
    "\n",
    "import string\n",
    "import re\n",
    "\n",
    "import spacy as s\n",
    "import en_core_web_sm as en\n",
    "import en_core_web_lg as en2\n",
    "import en_vectors_web_lg as env\n",
    "\n",
    "#from pattern.en import pluralize, singularize\n",
    "from itertools import compress\n",
    " \n",
    "import time\n",
    "import swifter\n",
    "#from pandarallel import pandarallel\n",
    "from matplotlib import pyplot as plt\n",
    "import seaborn as sns"
   ]
  },
  {
   "cell_type": "code",
   "execution_count": 281,
   "metadata": {},
   "outputs": [],
   "source": [
    "sns.set()"
   ]
  },
  {
   "cell_type": "code",
   "execution_count": 2,
   "metadata": {},
   "outputs": [],
   "source": [
    "from multiprocessing import Pool, cpu_count"
   ]
  },
  {
   "cell_type": "code",
   "execution_count": 3,
   "metadata": {},
   "outputs": [],
   "source": [
    "from nltk.stem import WordNetLemmatizer\n",
    "from nltk.corpus import stopwords"
   ]
  },
  {
   "cell_type": "code",
   "execution_count": 160,
   "metadata": {},
   "outputs": [],
   "source": [
    "nlp = en.load(disable=['ner','entity_ruler'])"
   ]
  },
  {
   "cell_type": "code",
   "execution_count": 4,
   "metadata": {},
   "outputs": [],
   "source": [
    "wn_lemma = WordNetLemmatizer()"
   ]
  },
  {
   "cell_type": "code",
   "execution_count": 5,
   "metadata": {},
   "outputs": [],
   "source": [
    "get_lemma = wn_lemma.lemmatize #speeds up the dot accessor lookup"
   ]
  },
  {
   "cell_type": "code",
   "execution_count": 10,
   "metadata": {},
   "outputs": [],
   "source": [
    "lemmas_cache = {}\n",
    "lemmacache_get = lemmas_cache.get\n",
    "def lemma_cache(word):\n",
    "    if word=='|':\n",
    "        return word\n",
    "    elif '|' in word:\n",
    "        return \"|\".join([lemma_cache(z) for z in word.split(\"|\")])\n",
    "    else:\n",
    "        a = lemmacache_get(word)\n",
    "        if a:\n",
    "            return a\n",
    "        else:\n",
    "            lemma = get_lemma(word)\n",
    "            lemmas_cache[word] = lemma\n",
    "            return lemma"
   ]
  },
  {
   "cell_type": "code",
   "execution_count": 11,
   "metadata": {},
   "outputs": [],
   "source": [
    "stopwords_cache = {}\n",
    "stopwordscache_get = stopwords_cache.get\n",
    "STOPWORDS = set(stopwords.words('english'))\n",
    "def stopword_cache(word):\n",
    "    if word=='|':\n",
    "        return word\n",
    "    elif '|' in word:\n",
    "        return '|'.join([stopword_cache(z) for z in word.split(\"|\")])\n",
    "    else:\n",
    "        a = stopwordscache_get(word)                              \n",
    "        if a:\n",
    "            return a\n",
    "        else:\n",
    "            if word in STOPWORDS:\n",
    "                result = \"|\"\n",
    "            else:\n",
    "                result = word\n",
    "            stopwords_cache[word] = result\n",
    "            return result"
   ]
  },
  {
   "cell_type": "code",
   "execution_count": 12,
   "metadata": {},
   "outputs": [],
   "source": [
    "#warm up the stopwords cache:\n",
    "zz = [stopword_cache(cc) for cc in STOPWORDS]"
   ]
  },
  {
   "cell_type": "code",
   "execution_count": 13,
   "metadata": {},
   "outputs": [],
   "source": [
    "def applyParallel(dfGrouped, func):\n",
    "    \"For applying after a groupby\"\n",
    "    with Pool(cpu_count()) as p:\n",
    "        ret_list = p.map(func, [group for name, group in dfGrouped])\n",
    "    return pandas.concat(ret_list)"
   ]
  },
  {
   "cell_type": "code",
   "execution_count": 14,
   "metadata": {},
   "outputs": [],
   "source": [
    "#from pywsd.utils import lemmatize_sentence"
   ]
  },
  {
   "cell_type": "code",
   "execution_count": 15,
   "metadata": {},
   "outputs": [],
   "source": [
    "#nlp = en.load()\n",
    "#nlp = en.load(disable=['ner','entity_ruler'])"
   ]
  },
  {
   "cell_type": "markdown",
   "metadata": {},
   "source": [
    "# Data Reading"
   ]
  },
  {
   "cell_type": "code",
   "execution_count": null,
   "metadata": {},
   "outputs": [],
   "source": [
    "df = pd.read_csv(\"./1data_processNEW.csv\",engine='c')"
   ]
  },
  {
   "cell_type": "code",
   "execution_count": 18,
   "metadata": {},
   "outputs": [
    {
     "data": {
      "text/html": [
       "<div>\n",
       "<style scoped>\n",
       "    .dataframe tbody tr th:only-of-type {\n",
       "        vertical-align: middle;\n",
       "    }\n",
       "\n",
       "    .dataframe tbody tr th {\n",
       "        vertical-align: top;\n",
       "    }\n",
       "\n",
       "    .dataframe thead th {\n",
       "        text-align: right;\n",
       "    }\n",
       "</style>\n",
       "<table border=\"1\" class=\"dataframe\">\n",
       "  <thead>\n",
       "    <tr style=\"text-align: right;\">\n",
       "      <th></th>\n",
       "      <th>pmid</th>\n",
       "      <th>year</th>\n",
       "      <th>title</th>\n",
       "      <th>number_authors</th>\n",
       "    </tr>\n",
       "  </thead>\n",
       "  <tbody>\n",
       "    <tr>\n",
       "      <th>0</th>\n",
       "      <td>12255545</td>\n",
       "      <td>1946</td>\n",
       "      <td>The nutrition of expectant and nursing mothers in relation to maternal and infant mortality and morbidity.</td>\n",
       "      <td>1</td>\n",
       "    </tr>\n",
       "    <tr>\n",
       "      <th>1</th>\n",
       "      <td>12278355</td>\n",
       "      <td>1946</td>\n",
       "      <td>Ritual mutilation among primitive peoples.</td>\n",
       "      <td>1</td>\n",
       "    </tr>\n",
       "    <tr>\n",
       "      <th>2</th>\n",
       "      <td>12305597</td>\n",
       "      <td>1946</td>\n",
       "      <td>Vitamin-C test for ovulation.</td>\n",
       "      <td>1</td>\n",
       "    </tr>\n",
       "    <tr>\n",
       "      <th>3</th>\n",
       "      <td>12332284</td>\n",
       "      <td>1946</td>\n",
       "      <td>The clinical use of oral basal temperatures.</td>\n",
       "      <td>1</td>\n",
       "    </tr>\n",
       "    <tr>\n",
       "      <th>4</th>\n",
       "      <td>16016713</td>\n",
       "      <td>1946</td>\n",
       "      <td>The Army Medical Library: In Retrospect and Future.</td>\n",
       "      <td>1</td>\n",
       "    </tr>\n",
       "  </tbody>\n",
       "</table>\n",
       "</div>"
      ],
      "text/plain": [
       "       pmid  year  \\\n",
       "0  12255545  1946   \n",
       "1  12278355  1946   \n",
       "2  12305597  1946   \n",
       "3  12332284  1946   \n",
       "4  16016713  1946   \n",
       "\n",
       "                                                                                                        title  \\\n",
       "0  The nutrition of expectant and nursing mothers in relation to maternal and infant mortality and morbidity.   \n",
       "1                                                                  Ritual mutilation among primitive peoples.   \n",
       "2                                                                               Vitamin-C test for ovulation.   \n",
       "3                                                                The clinical use of oral basal temperatures.   \n",
       "4                                                         The Army Medical Library: In Retrospect and Future.   \n",
       "\n",
       "   number_authors  \n",
       "0               1  \n",
       "1               1  \n",
       "2               1  \n",
       "3               1  \n",
       "4               1  "
      ]
     },
     "execution_count": 18,
     "metadata": {},
     "output_type": "execute_result"
    }
   ],
   "source": [
    "df.head()"
   ]
  },
  {
   "cell_type": "markdown",
   "metadata": {},
   "source": [
    "## Preprocessing"
   ]
  },
  {
   "cell_type": "code",
   "execution_count": 16,
   "metadata": {},
   "outputs": [
    {
     "data": {
      "text/plain": [
       "['Before phrases can be extracted from them, the titles were processed in the following way: Periods, colons, semicolons, dashes, and commas were replaced with a code specifying phrase separation',\n",
       " ' All punctuation symbols were removed, except for ampersands, which were replaced with “and',\n",
       " '” Leading and trailing spaces were removed, and multiple spaces were replaced with a single space',\n",
       " ' Cases were ignored',\n",
       " ' Numbers and single letters were removed',\n",
       " ' Singular and plural forms of nouns were collated',\n",
       " '']"
      ]
     },
     "execution_count": 16,
     "metadata": {},
     "output_type": "execute_result"
    }
   ],
   "source": [
    "\"\"\"Before phrases can be extracted from them, the titles were processed in the following way: Periods, colons, semicolons, dashes, and commas were replaced with a code specifying phrase separation. All punctuation symbols were removed, except for ampersands, which were replaced with “and.” Leading and trailing spaces were removed, and multiple spaces were replaced with a single space. Cases were ignored. Numbers and single letters were removed. Singular and plural forms of nouns were collated.\"\"\".split('.')"
   ]
  },
  {
   "cell_type": "code",
   "execution_count": 25,
   "metadata": {},
   "outputs": [],
   "source": [
    "df['workingtitle'] = df['title'].str.lower()"
   ]
  },
  {
   "cell_type": "code",
   "execution_count": 26,
   "metadata": {},
   "outputs": [],
   "source": [
    "# strip leading or trailing brackets. trailing brackets occur when data is \"Not Available\"\n",
    "df['workingtitle'] = df['workingtitle'].str.strip('[].')"
   ]
  },
  {
   "cell_type": "code",
   "execution_count": 27,
   "metadata": {},
   "outputs": [],
   "source": [
    "df = df.replace('Not Available',np.nan)"
   ]
  },
  {
   "cell_type": "code",
   "execution_count": 42,
   "metadata": {},
   "outputs": [],
   "source": [
    "df = df.replace('not available',np.nan)"
   ]
  },
  {
   "cell_type": "code",
   "execution_count": 43,
   "metadata": {},
   "outputs": [],
   "source": [
    "df = df[pd.notnull(df['workingtitle'])]"
   ]
  },
  {
   "cell_type": "code",
   "execution_count": 44,
   "metadata": {},
   "outputs": [
    {
     "data": {
      "text/plain": [
       "15748731"
      ]
     },
     "execution_count": 44,
     "metadata": {},
     "output_type": "execute_result"
    }
   ],
   "source": [
    "len(df)"
   ]
  },
  {
   "cell_type": "code",
   "execution_count": 37,
   "metadata": {},
   "outputs": [
    {
     "data": {
      "text/plain": [
       "284"
      ]
     },
     "execution_count": 37,
     "metadata": {},
     "output_type": "execute_result"
    }
   ],
   "source": [
    "#number of missing titles:\n",
    "14243892-14243608"
   ]
  },
  {
   "cell_type": "code",
   "execution_count": 38,
   "metadata": {},
   "outputs": [],
   "source": [
    "df = df.drop_duplicates()"
   ]
  },
  {
   "cell_type": "code",
   "execution_count": 45,
   "metadata": {},
   "outputs": [],
   "source": [
    "groupedbyyear = df[['workingtitle','year']].groupby('year')\n",
    "sample = groupedbyyear.apply(lambda x: x.sample(10000)['workingtitle'])"
   ]
  },
  {
   "cell_type": "code",
   "execution_count": 209,
   "metadata": {},
   "outputs": [],
   "source": [
    "sss = sample.reset_index()"
   ]
  },
  {
   "cell_type": "markdown",
   "metadata": {},
   "source": [
    "# First New Test: Noun Chunks via Spacey"
   ]
  },
  {
   "cell_type": "markdown",
   "metadata": {},
   "source": [
    "### Explanation"
   ]
  },
  {
   "cell_type": "code",
   "execution_count": 313,
   "metadata": {},
   "outputs": [],
   "source": [
    "from spacy import displacy"
   ]
  },
  {
   "cell_type": "code",
   "execution_count": 296,
   "metadata": {},
   "outputs": [],
   "source": [
    "# Phrase seperation in paper titles can be considered an issue of identifying unique \"noun phrases\"\n",
    "# Spacy recognizes \"noun chunks\" via looking at the Part of Speech Tagging as well as the Dependency Parse\n",
    "# Let's see what these things mean:"
   ]
  },
  {
   "cell_type": "code",
   "execution_count": 298,
   "metadata": {},
   "outputs": [],
   "source": [
    "#given a title...\n",
    "test1 = \"DETECTION OF LARGE WOODY DEBRIS ACCUMULATIONS IN OLD-GROWTH FORESTS USING SONIC WAVE COLLECTION.\".title()"
   ]
  },
  {
   "cell_type": "code",
   "execution_count": 297,
   "metadata": {},
   "outputs": [
    {
     "data": {
      "text/plain": [
       "'Detection Of Large Woody Debris Accumulations In Old-Growth Forests Using Sonic Wave Collection'"
      ]
     },
     "execution_count": 297,
     "metadata": {},
     "output_type": "execute_result"
    }
   ],
   "source": [
    "test1"
   ]
  },
  {
   "cell_type": "code",
   "execution_count": 299,
   "metadata": {},
   "outputs": [],
   "source": [
    "doc = nlp(test1)"
   ]
  },
  {
   "cell_type": "code",
   "execution_count": 302,
   "metadata": {},
   "outputs": [],
   "source": [
    "parsed = [[x.text,x.pos_,x.tag_,x.dep_] for x in doc]"
   ]
  },
  {
   "cell_type": "code",
   "execution_count": 314,
   "metadata": {},
   "outputs": [],
   "source": [
    "testdf = pd.DataFrame(parsed)\n",
    "testdf.columns = ['Word:','CoarseGrained Part of Speech','FineGrained Part of Speech:','Dependency:']"
   ]
  },
  {
   "cell_type": "code",
   "execution_count": 315,
   "metadata": {},
   "outputs": [
    {
     "data": {
      "text/html": [
       "<div>\n",
       "<style scoped>\n",
       "    .dataframe tbody tr th:only-of-type {\n",
       "        vertical-align: middle;\n",
       "    }\n",
       "\n",
       "    .dataframe tbody tr th {\n",
       "        vertical-align: top;\n",
       "    }\n",
       "\n",
       "    .dataframe thead th {\n",
       "        text-align: right;\n",
       "    }\n",
       "</style>\n",
       "<table border=\"1\" class=\"dataframe\">\n",
       "  <thead>\n",
       "    <tr style=\"text-align: right;\">\n",
       "      <th></th>\n",
       "      <th>0</th>\n",
       "      <th>1</th>\n",
       "      <th>2</th>\n",
       "      <th>3</th>\n",
       "      <th>4</th>\n",
       "      <th>5</th>\n",
       "      <th>6</th>\n",
       "      <th>7</th>\n",
       "      <th>8</th>\n",
       "      <th>9</th>\n",
       "      <th>10</th>\n",
       "      <th>11</th>\n",
       "      <th>12</th>\n",
       "      <th>13</th>\n",
       "      <th>14</th>\n",
       "      <th>15</th>\n",
       "    </tr>\n",
       "  </thead>\n",
       "  <tbody>\n",
       "    <tr>\n",
       "      <th>Word:</th>\n",
       "      <td>Detection</td>\n",
       "      <td>Of</td>\n",
       "      <td>Large</td>\n",
       "      <td>Woody</td>\n",
       "      <td>Debris</td>\n",
       "      <td>Accumulations</td>\n",
       "      <td>In</td>\n",
       "      <td>Old</td>\n",
       "      <td>-</td>\n",
       "      <td>Growth</td>\n",
       "      <td>Forests</td>\n",
       "      <td>Using</td>\n",
       "      <td>Sonic</td>\n",
       "      <td>Wave</td>\n",
       "      <td>Collection</td>\n",
       "      <td>.</td>\n",
       "    </tr>\n",
       "    <tr>\n",
       "      <th>CoarseGrained Part of Speech</th>\n",
       "      <td>NOUN</td>\n",
       "      <td>ADP</td>\n",
       "      <td>ADJ</td>\n",
       "      <td>PROPN</td>\n",
       "      <td>PROPN</td>\n",
       "      <td>PROPN</td>\n",
       "      <td>ADP</td>\n",
       "      <td>PROPN</td>\n",
       "      <td>PUNCT</td>\n",
       "      <td>PROPN</td>\n",
       "      <td>NOUN</td>\n",
       "      <td>VERB</td>\n",
       "      <td>PROPN</td>\n",
       "      <td>PROPN</td>\n",
       "      <td>PROPN</td>\n",
       "      <td>PUNCT</td>\n",
       "    </tr>\n",
       "    <tr>\n",
       "      <th>FineGrained Part of Speech:</th>\n",
       "      <td>NN</td>\n",
       "      <td>IN</td>\n",
       "      <td>JJ</td>\n",
       "      <td>NNP</td>\n",
       "      <td>NNP</td>\n",
       "      <td>NNPS</td>\n",
       "      <td>IN</td>\n",
       "      <td>NNP</td>\n",
       "      <td>HYPH</td>\n",
       "      <td>NNP</td>\n",
       "      <td>NNS</td>\n",
       "      <td>VBG</td>\n",
       "      <td>NNP</td>\n",
       "      <td>NNP</td>\n",
       "      <td>NNP</td>\n",
       "      <td>.</td>\n",
       "    </tr>\n",
       "    <tr>\n",
       "      <th>Dependency:</th>\n",
       "      <td>ROOT</td>\n",
       "      <td>prep</td>\n",
       "      <td>amod</td>\n",
       "      <td>compound</td>\n",
       "      <td>compound</td>\n",
       "      <td>pobj</td>\n",
       "      <td>prep</td>\n",
       "      <td>compound</td>\n",
       "      <td>punct</td>\n",
       "      <td>compound</td>\n",
       "      <td>pobj</td>\n",
       "      <td>acl</td>\n",
       "      <td>compound</td>\n",
       "      <td>compound</td>\n",
       "      <td>dobj</td>\n",
       "      <td>punct</td>\n",
       "    </tr>\n",
       "  </tbody>\n",
       "</table>\n",
       "</div>"
      ],
      "text/plain": [
       "                                     0     1      2         3         4   \\\n",
       "Word:                         Detection    Of  Large     Woody    Debris   \n",
       "CoarseGrained Part of Speech       NOUN   ADP    ADJ     PROPN     PROPN   \n",
       "FineGrained Part of Speech:          NN    IN     JJ       NNP       NNP   \n",
       "Dependency:                        ROOT  prep   amod  compound  compound   \n",
       "\n",
       "                                         5     6         7      8         9   \\\n",
       "Word:                         Accumulations    In       Old      -    Growth   \n",
       "CoarseGrained Part of Speech          PROPN   ADP     PROPN  PUNCT     PROPN   \n",
       "FineGrained Part of Speech:            NNPS    IN       NNP   HYPH       NNP   \n",
       "Dependency:                            pobj  prep  compound  punct  compound   \n",
       "\n",
       "                                   10     11        12        13          14  \\\n",
       "Word:                         Forests  Using     Sonic      Wave  Collection   \n",
       "CoarseGrained Part of Speech     NOUN   VERB     PROPN     PROPN       PROPN   \n",
       "FineGrained Part of Speech:       NNS    VBG       NNP       NNP         NNP   \n",
       "Dependency:                      pobj    acl  compound  compound        dobj   \n",
       "\n",
       "                                 15  \n",
       "Word:                             .  \n",
       "CoarseGrained Part of Speech  PUNCT  \n",
       "FineGrained Part of Speech:       .  \n",
       "Dependency:                   punct  "
      ]
     },
     "execution_count": 315,
     "metadata": {},
     "output_type": "execute_result"
    }
   ],
   "source": [
    "#... here are the parts of speech and the dependency tags\n",
    "testdf.T"
   ]
  },
  {
   "cell_type": "code",
   "execution_count": null,
   "metadata": {},
   "outputs": [],
   "source": [
    "# but this isn't the whole story..."
   ]
  },
  {
   "cell_type": "code",
   "execution_count": 316,
   "metadata": {},
   "outputs": [
    {
     "name": "stderr",
     "output_type": "stream",
     "text": [
      "/usr/local/Cellar/python/3.7.3/Frameworks/Python.framework/Versions/3.7/lib/python3.7/runpy.py:193: UserWarning: [W011] It looks like you're calling displacy.serve from within a Jupyter notebook or a similar environment. This likely means you're already running a local web server, so there's no need to make displaCy start another one. Instead, you should be able to replace displacy.serve with displacy.render to show the visualization.\n",
      "  \"__main__\", mod_spec)\n"
     ]
    },
    {
     "data": {
      "text/html": [
       "<!DOCTYPE html>\n",
       "<html lang=\"en\">\n",
       "    <head>\n",
       "        <title>displaCy</title>\n",
       "    </head>\n",
       "\n",
       "    <body style=\"font-size: 16px; font-family: -apple-system, BlinkMacSystemFont, 'Segoe UI', Helvetica, Arial, sans-serif, 'Apple Color Emoji', 'Segoe UI Emoji', 'Segoe UI Symbol'; padding: 4rem 2rem; direction: ltr\">\n",
       "<figure style=\"margin-bottom: 6rem\">\n",
       "<svg xmlns=\"http://www.w3.org/2000/svg\" xmlns:xlink=\"http://www.w3.org/1999/xlink\" xml:lang=\"en\" id=\"195fda572abb48faa72a6c22295a6fb4-0\" class=\"displacy\" width=\"2500\" height=\"574.5\" direction=\"ltr\" style=\"max-width: none; height: 574.5px; color: #000000; background: #ffffff; font-family: Arial; direction: ltr\">\n",
       "<text class=\"displacy-token\" fill=\"currentColor\" text-anchor=\"middle\" y=\"484.5\">\n",
       "    <tspan class=\"displacy-word\" fill=\"currentColor\" x=\"50\">Detection</tspan>\n",
       "    <tspan class=\"displacy-tag\" dy=\"2em\" fill=\"currentColor\" x=\"50\">NOUN</tspan>\n",
       "</text>\n",
       "\n",
       "<text class=\"displacy-token\" fill=\"currentColor\" text-anchor=\"middle\" y=\"484.5\">\n",
       "    <tspan class=\"displacy-word\" fill=\"currentColor\" x=\"225\">Of</tspan>\n",
       "    <tspan class=\"displacy-tag\" dy=\"2em\" fill=\"currentColor\" x=\"225\">ADP</tspan>\n",
       "</text>\n",
       "\n",
       "<text class=\"displacy-token\" fill=\"currentColor\" text-anchor=\"middle\" y=\"484.5\">\n",
       "    <tspan class=\"displacy-word\" fill=\"currentColor\" x=\"400\">Large</tspan>\n",
       "    <tspan class=\"displacy-tag\" dy=\"2em\" fill=\"currentColor\" x=\"400\">ADJ</tspan>\n",
       "</text>\n",
       "\n",
       "<text class=\"displacy-token\" fill=\"currentColor\" text-anchor=\"middle\" y=\"484.5\">\n",
       "    <tspan class=\"displacy-word\" fill=\"currentColor\" x=\"575\">Woody</tspan>\n",
       "    <tspan class=\"displacy-tag\" dy=\"2em\" fill=\"currentColor\" x=\"575\">PROPN</tspan>\n",
       "</text>\n",
       "\n",
       "<text class=\"displacy-token\" fill=\"currentColor\" text-anchor=\"middle\" y=\"484.5\">\n",
       "    <tspan class=\"displacy-word\" fill=\"currentColor\" x=\"750\">Debris</tspan>\n",
       "    <tspan class=\"displacy-tag\" dy=\"2em\" fill=\"currentColor\" x=\"750\">PROPN</tspan>\n",
       "</text>\n",
       "\n",
       "<text class=\"displacy-token\" fill=\"currentColor\" text-anchor=\"middle\" y=\"484.5\">\n",
       "    <tspan class=\"displacy-word\" fill=\"currentColor\" x=\"925\">Accumulations</tspan>\n",
       "    <tspan class=\"displacy-tag\" dy=\"2em\" fill=\"currentColor\" x=\"925\">PROPN</tspan>\n",
       "</text>\n",
       "\n",
       "<text class=\"displacy-token\" fill=\"currentColor\" text-anchor=\"middle\" y=\"484.5\">\n",
       "    <tspan class=\"displacy-word\" fill=\"currentColor\" x=\"1100\">In</tspan>\n",
       "    <tspan class=\"displacy-tag\" dy=\"2em\" fill=\"currentColor\" x=\"1100\">ADP</tspan>\n",
       "</text>\n",
       "\n",
       "<text class=\"displacy-token\" fill=\"currentColor\" text-anchor=\"middle\" y=\"484.5\">\n",
       "    <tspan class=\"displacy-word\" fill=\"currentColor\" x=\"1275\">Old-</tspan>\n",
       "    <tspan class=\"displacy-tag\" dy=\"2em\" fill=\"currentColor\" x=\"1275\">PROPN</tspan>\n",
       "</text>\n",
       "\n",
       "<text class=\"displacy-token\" fill=\"currentColor\" text-anchor=\"middle\" y=\"484.5\">\n",
       "    <tspan class=\"displacy-word\" fill=\"currentColor\" x=\"1450\">Growth</tspan>\n",
       "    <tspan class=\"displacy-tag\" dy=\"2em\" fill=\"currentColor\" x=\"1450\">PROPN</tspan>\n",
       "</text>\n",
       "\n",
       "<text class=\"displacy-token\" fill=\"currentColor\" text-anchor=\"middle\" y=\"484.5\">\n",
       "    <tspan class=\"displacy-word\" fill=\"currentColor\" x=\"1625\">Forests</tspan>\n",
       "    <tspan class=\"displacy-tag\" dy=\"2em\" fill=\"currentColor\" x=\"1625\">NOUN</tspan>\n",
       "</text>\n",
       "\n",
       "<text class=\"displacy-token\" fill=\"currentColor\" text-anchor=\"middle\" y=\"484.5\">\n",
       "    <tspan class=\"displacy-word\" fill=\"currentColor\" x=\"1800\">Using</tspan>\n",
       "    <tspan class=\"displacy-tag\" dy=\"2em\" fill=\"currentColor\" x=\"1800\">VERB</tspan>\n",
       "</text>\n",
       "\n",
       "<text class=\"displacy-token\" fill=\"currentColor\" text-anchor=\"middle\" y=\"484.5\">\n",
       "    <tspan class=\"displacy-word\" fill=\"currentColor\" x=\"1975\">Sonic</tspan>\n",
       "    <tspan class=\"displacy-tag\" dy=\"2em\" fill=\"currentColor\" x=\"1975\">PROPN</tspan>\n",
       "</text>\n",
       "\n",
       "<text class=\"displacy-token\" fill=\"currentColor\" text-anchor=\"middle\" y=\"484.5\">\n",
       "    <tspan class=\"displacy-word\" fill=\"currentColor\" x=\"2150\">Wave</tspan>\n",
       "    <tspan class=\"displacy-tag\" dy=\"2em\" fill=\"currentColor\" x=\"2150\">PROPN</tspan>\n",
       "</text>\n",
       "\n",
       "<text class=\"displacy-token\" fill=\"currentColor\" text-anchor=\"middle\" y=\"484.5\">\n",
       "    <tspan class=\"displacy-word\" fill=\"currentColor\" x=\"2325\">Collection.</tspan>\n",
       "    <tspan class=\"displacy-tag\" dy=\"2em\" fill=\"currentColor\" x=\"2325\">PROPN</tspan>\n",
       "</text>\n",
       "\n",
       "<g class=\"displacy-arrow\">\n",
       "    <path class=\"displacy-arc\" id=\"arrow-195fda572abb48faa72a6c22295a6fb4-0-0\" stroke-width=\"2px\" d=\"M70,439.5 C70,352.0 205.0,352.0 205.0,439.5\" fill=\"none\" stroke=\"currentColor\"/>\n",
       "    <text dy=\"1.25em\" style=\"font-size: 0.8em; letter-spacing: 1px\">\n",
       "        <textPath xlink:href=\"#arrow-195fda572abb48faa72a6c22295a6fb4-0-0\" class=\"displacy-label\" startOffset=\"50%\" side=\"left\" fill=\"currentColor\" text-anchor=\"middle\">prep</textPath>\n",
       "    </text>\n",
       "    <path class=\"displacy-arrowhead\" d=\"M205.0,441.5 L213.0,429.5 197.0,429.5\" fill=\"currentColor\"/>\n",
       "</g>\n",
       "\n",
       "<g class=\"displacy-arrow\">\n",
       "    <path class=\"displacy-arc\" id=\"arrow-195fda572abb48faa72a6c22295a6fb4-0-1\" stroke-width=\"2px\" d=\"M420,439.5 C420,177.0 915.0,177.0 915.0,439.5\" fill=\"none\" stroke=\"currentColor\"/>\n",
       "    <text dy=\"1.25em\" style=\"font-size: 0.8em; letter-spacing: 1px\">\n",
       "        <textPath xlink:href=\"#arrow-195fda572abb48faa72a6c22295a6fb4-0-1\" class=\"displacy-label\" startOffset=\"50%\" side=\"left\" fill=\"currentColor\" text-anchor=\"middle\">amod</textPath>\n",
       "    </text>\n",
       "    <path class=\"displacy-arrowhead\" d=\"M420,441.5 L412,429.5 428,429.5\" fill=\"currentColor\"/>\n",
       "</g>\n",
       "\n",
       "<g class=\"displacy-arrow\">\n",
       "    <path class=\"displacy-arc\" id=\"arrow-195fda572abb48faa72a6c22295a6fb4-0-2\" stroke-width=\"2px\" d=\"M595,439.5 C595,264.5 910.0,264.5 910.0,439.5\" fill=\"none\" stroke=\"currentColor\"/>\n",
       "    <text dy=\"1.25em\" style=\"font-size: 0.8em; letter-spacing: 1px\">\n",
       "        <textPath xlink:href=\"#arrow-195fda572abb48faa72a6c22295a6fb4-0-2\" class=\"displacy-label\" startOffset=\"50%\" side=\"left\" fill=\"currentColor\" text-anchor=\"middle\">compound</textPath>\n",
       "    </text>\n",
       "    <path class=\"displacy-arrowhead\" d=\"M595,441.5 L587,429.5 603,429.5\" fill=\"currentColor\"/>\n",
       "</g>\n",
       "\n",
       "<g class=\"displacy-arrow\">\n",
       "    <path class=\"displacy-arc\" id=\"arrow-195fda572abb48faa72a6c22295a6fb4-0-3\" stroke-width=\"2px\" d=\"M770,439.5 C770,352.0 905.0,352.0 905.0,439.5\" fill=\"none\" stroke=\"currentColor\"/>\n",
       "    <text dy=\"1.25em\" style=\"font-size: 0.8em; letter-spacing: 1px\">\n",
       "        <textPath xlink:href=\"#arrow-195fda572abb48faa72a6c22295a6fb4-0-3\" class=\"displacy-label\" startOffset=\"50%\" side=\"left\" fill=\"currentColor\" text-anchor=\"middle\">compound</textPath>\n",
       "    </text>\n",
       "    <path class=\"displacy-arrowhead\" d=\"M770,441.5 L762,429.5 778,429.5\" fill=\"currentColor\"/>\n",
       "</g>\n",
       "\n",
       "<g class=\"displacy-arrow\">\n",
       "    <path class=\"displacy-arc\" id=\"arrow-195fda572abb48faa72a6c22295a6fb4-0-4\" stroke-width=\"2px\" d=\"M245,439.5 C245,89.5 920.0,89.5 920.0,439.5\" fill=\"none\" stroke=\"currentColor\"/>\n",
       "    <text dy=\"1.25em\" style=\"font-size: 0.8em; letter-spacing: 1px\">\n",
       "        <textPath xlink:href=\"#arrow-195fda572abb48faa72a6c22295a6fb4-0-4\" class=\"displacy-label\" startOffset=\"50%\" side=\"left\" fill=\"currentColor\" text-anchor=\"middle\">pobj</textPath>\n",
       "    </text>\n",
       "    <path class=\"displacy-arrowhead\" d=\"M920.0,441.5 L928.0,429.5 912.0,429.5\" fill=\"currentColor\"/>\n",
       "</g>\n",
       "\n",
       "<g class=\"displacy-arrow\">\n",
       "    <path class=\"displacy-arc\" id=\"arrow-195fda572abb48faa72a6c22295a6fb4-0-5\" stroke-width=\"2px\" d=\"M945,439.5 C945,352.0 1080.0,352.0 1080.0,439.5\" fill=\"none\" stroke=\"currentColor\"/>\n",
       "    <text dy=\"1.25em\" style=\"font-size: 0.8em; letter-spacing: 1px\">\n",
       "        <textPath xlink:href=\"#arrow-195fda572abb48faa72a6c22295a6fb4-0-5\" class=\"displacy-label\" startOffset=\"50%\" side=\"left\" fill=\"currentColor\" text-anchor=\"middle\">prep</textPath>\n",
       "    </text>\n",
       "    <path class=\"displacy-arrowhead\" d=\"M1080.0,441.5 L1088.0,429.5 1072.0,429.5\" fill=\"currentColor\"/>\n",
       "</g>\n",
       "\n",
       "<g class=\"displacy-arrow\">\n",
       "    <path class=\"displacy-arc\" id=\"arrow-195fda572abb48faa72a6c22295a6fb4-0-6\" stroke-width=\"2px\" d=\"M1295,439.5 C1295,352.0 1430.0,352.0 1430.0,439.5\" fill=\"none\" stroke=\"currentColor\"/>\n",
       "    <text dy=\"1.25em\" style=\"font-size: 0.8em; letter-spacing: 1px\">\n",
       "        <textPath xlink:href=\"#arrow-195fda572abb48faa72a6c22295a6fb4-0-6\" class=\"displacy-label\" startOffset=\"50%\" side=\"left\" fill=\"currentColor\" text-anchor=\"middle\">compound</textPath>\n",
       "    </text>\n",
       "    <path class=\"displacy-arrowhead\" d=\"M1295,441.5 L1287,429.5 1303,429.5\" fill=\"currentColor\"/>\n",
       "</g>\n",
       "\n",
       "<g class=\"displacy-arrow\">\n",
       "    <path class=\"displacy-arc\" id=\"arrow-195fda572abb48faa72a6c22295a6fb4-0-7\" stroke-width=\"2px\" d=\"M1470,439.5 C1470,352.0 1605.0,352.0 1605.0,439.5\" fill=\"none\" stroke=\"currentColor\"/>\n",
       "    <text dy=\"1.25em\" style=\"font-size: 0.8em; letter-spacing: 1px\">\n",
       "        <textPath xlink:href=\"#arrow-195fda572abb48faa72a6c22295a6fb4-0-7\" class=\"displacy-label\" startOffset=\"50%\" side=\"left\" fill=\"currentColor\" text-anchor=\"middle\">compound</textPath>\n",
       "    </text>\n",
       "    <path class=\"displacy-arrowhead\" d=\"M1470,441.5 L1462,429.5 1478,429.5\" fill=\"currentColor\"/>\n",
       "</g>\n",
       "\n",
       "<g class=\"displacy-arrow\">\n",
       "    <path class=\"displacy-arc\" id=\"arrow-195fda572abb48faa72a6c22295a6fb4-0-8\" stroke-width=\"2px\" d=\"M1120,439.5 C1120,177.0 1615.0,177.0 1615.0,439.5\" fill=\"none\" stroke=\"currentColor\"/>\n",
       "    <text dy=\"1.25em\" style=\"font-size: 0.8em; letter-spacing: 1px\">\n",
       "        <textPath xlink:href=\"#arrow-195fda572abb48faa72a6c22295a6fb4-0-8\" class=\"displacy-label\" startOffset=\"50%\" side=\"left\" fill=\"currentColor\" text-anchor=\"middle\">pobj</textPath>\n",
       "    </text>\n",
       "    <path class=\"displacy-arrowhead\" d=\"M1615.0,441.5 L1623.0,429.5 1607.0,429.5\" fill=\"currentColor\"/>\n",
       "</g>\n",
       "\n",
       "<g class=\"displacy-arrow\">\n",
       "    <path class=\"displacy-arc\" id=\"arrow-195fda572abb48faa72a6c22295a6fb4-0-9\" stroke-width=\"2px\" d=\"M70,439.5 C70,2.0 1800.0,2.0 1800.0,439.5\" fill=\"none\" stroke=\"currentColor\"/>\n",
       "    <text dy=\"1.25em\" style=\"font-size: 0.8em; letter-spacing: 1px\">\n",
       "        <textPath xlink:href=\"#arrow-195fda572abb48faa72a6c22295a6fb4-0-9\" class=\"displacy-label\" startOffset=\"50%\" side=\"left\" fill=\"currentColor\" text-anchor=\"middle\">acl</textPath>\n",
       "    </text>\n",
       "    <path class=\"displacy-arrowhead\" d=\"M1800.0,441.5 L1808.0,429.5 1792.0,429.5\" fill=\"currentColor\"/>\n",
       "</g>\n",
       "\n",
       "<g class=\"displacy-arrow\">\n",
       "    <path class=\"displacy-arc\" id=\"arrow-195fda572abb48faa72a6c22295a6fb4-0-10\" stroke-width=\"2px\" d=\"M1995,439.5 C1995,352.0 2130.0,352.0 2130.0,439.5\" fill=\"none\" stroke=\"currentColor\"/>\n",
       "    <text dy=\"1.25em\" style=\"font-size: 0.8em; letter-spacing: 1px\">\n",
       "        <textPath xlink:href=\"#arrow-195fda572abb48faa72a6c22295a6fb4-0-10\" class=\"displacy-label\" startOffset=\"50%\" side=\"left\" fill=\"currentColor\" text-anchor=\"middle\">compound</textPath>\n",
       "    </text>\n",
       "    <path class=\"displacy-arrowhead\" d=\"M1995,441.5 L1987,429.5 2003,429.5\" fill=\"currentColor\"/>\n",
       "</g>\n",
       "\n",
       "<g class=\"displacy-arrow\">\n",
       "    <path class=\"displacy-arc\" id=\"arrow-195fda572abb48faa72a6c22295a6fb4-0-11\" stroke-width=\"2px\" d=\"M2170,439.5 C2170,352.0 2305.0,352.0 2305.0,439.5\" fill=\"none\" stroke=\"currentColor\"/>\n",
       "    <text dy=\"1.25em\" style=\"font-size: 0.8em; letter-spacing: 1px\">\n",
       "        <textPath xlink:href=\"#arrow-195fda572abb48faa72a6c22295a6fb4-0-11\" class=\"displacy-label\" startOffset=\"50%\" side=\"left\" fill=\"currentColor\" text-anchor=\"middle\">compound</textPath>\n",
       "    </text>\n",
       "    <path class=\"displacy-arrowhead\" d=\"M2170,441.5 L2162,429.5 2178,429.5\" fill=\"currentColor\"/>\n",
       "</g>\n",
       "\n",
       "<g class=\"displacy-arrow\">\n",
       "    <path class=\"displacy-arc\" id=\"arrow-195fda572abb48faa72a6c22295a6fb4-0-12\" stroke-width=\"2px\" d=\"M1820,439.5 C1820,177.0 2315.0,177.0 2315.0,439.5\" fill=\"none\" stroke=\"currentColor\"/>\n",
       "    <text dy=\"1.25em\" style=\"font-size: 0.8em; letter-spacing: 1px\">\n",
       "        <textPath xlink:href=\"#arrow-195fda572abb48faa72a6c22295a6fb4-0-12\" class=\"displacy-label\" startOffset=\"50%\" side=\"left\" fill=\"currentColor\" text-anchor=\"middle\">dobj</textPath>\n",
       "    </text>\n",
       "    <path class=\"displacy-arrowhead\" d=\"M2315.0,441.5 L2323.0,429.5 2307.0,429.5\" fill=\"currentColor\"/>\n",
       "</g>\n",
       "</svg>\n",
       "</figure>\n",
       "</body>\n",
       "</html>"
      ],
      "text/plain": [
       "<IPython.core.display.HTML object>"
      ]
     },
     "metadata": {},
     "output_type": "display_data"
    },
    {
     "name": "stdout",
     "output_type": "stream",
     "text": [
      "\n",
      "Using the 'dep' visualizer\n",
      "Serving on http://0.0.0.0:5000 ...\n",
      "\n",
      "Shutting down server on port 5000.\n"
     ]
    }
   ],
   "source": [
    "displacy.serve(doc, style='dep')"
   ]
  },
  {
   "cell_type": "code",
   "execution_count": 308,
   "metadata": {},
   "outputs": [
    {
     "data": {
      "text/plain": [
       "[Detection,\n",
       " Large Woody Debris Accumulations,\n",
       " Old-Growth Forests,\n",
       " Sonic Wave Collection]"
      ]
     },
     "execution_count": 308,
     "metadata": {},
     "output_type": "execute_result"
    }
   ],
   "source": [
    "#as for the spacy recognized noun chunks:\n",
    "list(doc.noun_chunks)"
   ]
  },
  {
   "cell_type": "code",
   "execution_count": null,
   "metadata": {},
   "outputs": [],
   "source": [
    "#HOw well does this work on real paper titles?"
   ]
  },
  {
   "cell_type": "code",
   "execution_count": 311,
   "metadata": {},
   "outputs": [],
   "source": [
    "yr1950 = sss[sss['year']==1950]"
   ]
  },
  {
   "cell_type": "code",
   "execution_count": 319,
   "metadata": {},
   "outputs": [],
   "source": [
    "testb = yr1950.head(30)"
   ]
  },
  {
   "cell_type": "code",
   "execution_count": 323,
   "metadata": {},
   "outputs": [
    {
     "name": "stdout",
     "output_type": "stream",
     "text": [
      "the treatment of leprosy with chloramphenicol; an experimental trial with negative results\n",
      "[the treatment, leprosy, chloramphenicol, an experimental trial, negative results]\n",
      "\n",
      "\n",
      "excretion of 11-oxycorticosteroids in paraplegic and rheumatoid arthritic patients\n",
      "[excretion, arthritic patients]\n",
      "\n",
      "\n",
      "amebiasis in infants and young children\n",
      "[amebiasis, infants, young children]\n",
      "\n",
      "\n",
      "the black crusade of health\n",
      "[the black crusade, health]\n",
      "\n",
      "\n",
      "acoustic orientation in biology\n",
      "[acoustic orientation, biology]\n",
      "\n",
      "\n",
      "a new anti-epileptic: dimethyl-dithio-hydantoin\n",
      "[a new anti-epileptic: dimethyl-dithio-hydantoin]\n",
      "\n",
      "\n",
      "stratigraphic examination of lungs; new aspects in the method\n",
      "[stratigraphic examination, lungs, new aspects, the method]\n",
      "\n",
      "\n",
      "electrology and podology\n",
      "[electrology, podology]\n",
      "\n",
      "\n",
      "two cases of perforated ulcer in adolescence; contribution and criticism\n",
      "[two cases, perforated ulcer, adolescence, contribution, criticism]\n",
      "\n",
      "\n",
      "reduction of maternal mortality due to hemorrhage\n",
      "[reduction, maternal mortality, hemorrhage]\n",
      "\n",
      "\n",
      "waste disposal\n",
      "[waste disposal]\n",
      "\n",
      "\n",
      "physical therapy of phlebitis and its sequels\n",
      "[physical therapy, phlebitis, its sequels]\n",
      "\n",
      "\n",
      "\"after-discharge\" and experimental reflex epilepsy\n",
      "[discharge, experimental reflex epilepsy]\n",
      "\n",
      "\n",
      "advantages of a uniform infant formula\n",
      "[advantages, a uniform infant formula]\n",
      "\n",
      "\n",
      "sympathicoadrenal surgical regulation of glycemia\n",
      "[sympathicoadrenal surgical regulation, glycemia]\n",
      "\n",
      "\n",
      "detection of unsuspected cervical cancer by cell study\n",
      "[detection, unsuspected cervical cancer, cell study]\n",
      "\n",
      "\n",
      "tick-borne relapsing fever in somaliland with special reference to the blood sedimentation rate\n",
      "[tick-borne relapsing fever, somaliland, special reference, the blood sedimentation rate]\n",
      "\n",
      "\n",
      "submucous lipomas of the small intestine\n",
      "[submucous lipomas, the small intestine]\n",
      "\n",
      "\n",
      "involvement of the optic chiasma during the evolution of tuberculous meningitis treated by streptomycin; clinical evolution and pathogenic discussion\n",
      "[involvement, the optic chiasma, the evolution, tuberculous meningitis, streptomycin, clinical evolution, pathogenic discussion]\n",
      "\n",
      "\n",
      "iii. semi-micro synthesis of c14-labeled acetic acid\n",
      "[iii. semi-micro synthesis, c14-labeled acetic acid]\n",
      "\n",
      "\n",
      "clinical aspects and radiotherapy of osteosarcoma\n",
      "[clinical aspects, radiotherapy, osteosarcoma]\n",
      "\n",
      "\n",
      "parathion poisoning\n",
      "[parathion poisoning]\n",
      "\n",
      "\n",
      "in defense of the english sanatorium\n",
      "[defense, the english sanatorium]\n",
      "\n",
      "\n",
      "cardiac disease in pregnancy; a study of the patients with heart disease at the philadelphia lying-in division of the pennsylvania hospital from 1937 to 1947, inclusive\n",
      "[cardiac disease, pregnancy, a study, the patients, heart disease, the philadelphia, division, the pennsylvania hospital]\n",
      "\n",
      "\n",
      "anuria following a single subcutaneous dose of sulfathiazole\n",
      "[anuria, a single subcutaneous dose, sulfathiazole]\n",
      "\n",
      "\n",
      "the use of decamethonium bromide for the production of muscular relaxation\n",
      "[the use, decamethonium bromide, the production, muscular relaxation]\n",
      "\n",
      "\n",
      "plasma iron and saturation of plasma iron-binding protein in dogs as related to the gastro-intestinal absorption of radioiron\n",
      "[plasma iron, saturation, plasma iron-binding protein, dogs, the gastro-intestinal absorption, radioiron]\n",
      "\n",
      "\n",
      "investigations on processes of glycogen amylolysis and phosphorolysis in the muscles\n",
      "[investigations, processes, glycogen amylolysis, phosphorolysis, the muscles]\n",
      "\n",
      "\n",
      "obstetrical and gynaecological operations. 6. operations on the ovaries\n",
      "[obstetrical and gynaecological operations, 6. operations, the ovaries]\n",
      "\n",
      "\n",
      "disease and temperature\n",
      "[disease, temperature]\n",
      "\n",
      "\n"
     ]
    }
   ],
   "source": [
    "for doc in nlp.pipe(testb['workingtitle'].values):\n",
    "    print(doc)\n",
    "    print(list(doc.noun_chunks))\n",
    "    print(\"\\n\")"
   ]
  },
  {
   "cell_type": "code",
   "execution_count": 210,
   "metadata": {},
   "outputs": [],
   "source": [
    "sss = sss[['year','workingtitle']]"
   ]
  },
  {
   "cell_type": "code",
   "execution_count": 263,
   "metadata": {},
   "outputs": [],
   "source": [
    "def get_cog_ext(sample):\n",
    "    ncs=[]\n",
    "    #just as fast as a list comprehension\n",
    "    for doc in nlp.pipe(sample,batch_size=1000,n_threads=-1,disable=['ner','entity_ruler',\n",
    "                                                                     'textcat','merge_noun_chunks',\n",
    "                                                                    'merge_entities','merge_subtokens']):\n",
    "        ncs.append(list(doc.noun_chunks))\n",
    "    return len(list(set([item for sublist in ncs for item in sublist])))"
   ]
  },
  {
   "cell_type": "code",
   "execution_count": 292,
   "metadata": {},
   "outputs": [],
   "source": [
    "aaa = []\n",
    "for doc in nlp.pipe(yr1948.head(100)['workingtitle'].values):\n",
    "    aaa.append(list(doc.noun_chunks))"
   ]
  },
  {
   "cell_type": "code",
   "execution_count": 293,
   "metadata": {
    "scrolled": false
   },
   "outputs": [
    {
     "data": {
      "text/plain": [
       "[[fauces, absence, tonsils],\n",
       " [carcinoma, the trachea],\n",
       " [cardiovascular syphilis],\n",
       " [low backache problem],\n",
       " [new concept, the pathogenesis, urinary lithiasis],\n",
       " [hodgkin's disease, pregnancy],\n",
       " [attempts, purnus virus i, cotton rats, monkeys],\n",
       " [a study,\n",
       "  the effects,\n",
       "  the intravenous injection,\n",
       "  hypertonic solutions,\n",
       "  the heart rates,\n",
       "  cats,\n",
       "  dogs],\n",
       " [improvement, the control, sheep, ricinus l],\n",
       " [analytical treatment, multicomponent systems],\n",
       " [the ketogenic action, niacin, the alcohol, niacin],\n",
       " [complete occlusal reconstruction, mouth rehabilitation],\n",
       " [cystectomy, cancer, the bladder, a woman, one kidney],\n",
       " [twin studies, aging, longevity],\n",
       " [financial aid, medical education],\n",
       " [chronic bilateral spontaneous pneumothorax, difficulties, treatment],\n",
       " [transient cerebral paralysis,\n",
       "  hypertension,\n",
       "  cerebral embolism,\n",
       "  special reference,\n",
       "  the pathogenesis],\n",
       " [static refraction, the blood sugar],\n",
       " [the diet],\n",
       " [the relationship, the private practitioner, the health program],\n",
       " [thiouracil content, poultry tissue, prolonged feeding, the compound],\n",
       " [the effect,\n",
       "  testosterone,\n",
       "  methyltestosterone,\n",
       "  guanidoacetic acid,\n",
       "  creatine,\n",
       "  plasma,\n",
       "  urine],\n",
       " [the effect, nitrogen mustard, x irradiation, blood coagulation],\n",
       " [a new method, an experiment, pure telepathy],\n",
       " [the history, seixoso, its medicinal waters],\n",
       " [a centennial, public health],\n",
       " [the public health laboratory service,\n",
       "  origin,\n",
       "  development,\n",
       "  public health laboratories],\n",
       " [human relations, industrial health],\n",
       " [present status, women's physical education, california junior colleges],\n",
       " [proteolytic activity, a fraction, human plasma],\n",
       " [needles, varicose veins],\n",
       " [the modern treatment, epilepsy],\n",
       " [disturbances, the nervous system, flying personnel],\n",
       " [effect,\n",
       "  beef,\n",
       "  dbr b mouse tumor cells,\n",
       "  growth,\n",
       "  transplants,\n",
       "  dba mice,\n",
       "  cytologic examination],\n",
       " [the sea, brain waves],\n",
       " [low temperature storage, quality, dried fruit],\n",
       " [critique, methods, the determination, riboflavin, urine],\n",
       " [effect, various respiratory stimulants, dogs, barbiturates, severe hypoxia],\n",
       " [the detection, beta-radiation, photographic film],\n",
       " [sensitization, dermatitis],\n",
       " [an evaluation, present day treatment, cirrhosis, the liver],\n",
       " [early diagnosis, the upper femoral epiphysis],\n",
       " [],\n",
       " [fertilization, immunity],\n",
       " [the special visceral efferent zone,\n",
       "  the seventh cranial nerve,\n",
       "  the canalis facialis],\n",
       " [the toxicity, methallyl chloride, white rats],\n",
       " [heredity, an etiological factor, homosexuality],\n",
       " [an interesting case, fibromyoma, mesentery],\n",
       " [an interesting case, urticaria],\n",
       " [the use, intramedullary pins, small animal fractures, a preliminary report],\n",
       " [high protein diets, testosterone propionate, plasma, liver proteins, rats],\n",
       " [emotional aspects, maternity care],\n",
       " [its discovery, medical applications],\n",
       " [hydrogenolysis, aromatic esters, alcohols],\n",
       " [experimental studies, the nature, hyperalgesia],\n",
       " [a consideration, the tests, liver function, their significance],\n",
       " [notes, certain species, mosquitoes, delaware county, pennsylvania],\n",
       " [local recurrence, breast cancer],\n",
       " [complete anuria,\n",
       "  blood transfusion reaction,\n",
       "  recovery,\n",
       "  report,\n",
       "  a case,\n",
       "  a review,\n",
       "  literature],\n",
       " [the in vitro inhibition, cytochrome oxidase, azide, cyanide],\n",
       " [the relation,\n",
       "  infectious and hemagglutination titers,\n",
       "  the adaptation,\n",
       "  influenza virus,\n",
       "  mice],\n",
       " [the frequency, megakaryocytes, autopsy sections],\n",
       " [the influence, pertussis, tuberculosis, infants, their nursing period],\n",
       " [observations, asepsis],\n",
       " [an evaluation, hemoirradiation therapy],\n",
       " [hypertension, cardiac enlargement, retinal changes, case, autopsy findings],\n",
       " [the preparation, aromatic stibonic acids, certain benzenesulfonamides],\n",
       " [plagues, coins],\n",
       " [latitude, effect and meson decay],\n",
       " [methylpyrazolonethiocarbamide],\n",
       " [principle, synthesis, a neurosis],\n",
       " [the detailed audiogram],\n",
       " [anticonvulsant drugs, some acylureas],\n",
       " [tracer experiments,\n",
       "  the mechanism,\n",
       "  glycine fermentation,\n",
       "  diplococcus glycinophilus],\n",
       " [prostatism, a conservative approach],\n",
       " [emetine therapy, the presence, heart disease],\n",
       " [constant corneal baths, penicillin],\n",
       " [resin acids,\n",
       "  an improved method,\n",
       "  isolation,\n",
       "  resin,\n",
       "  the isolation,\n",
       "  a new abietic-type acid,\n",
       "  neoabietic acid],\n",
       " [experimental control, application, direct current],\n",
       " [habitual dislocation, the shoulder, the putti-platt operation],\n",
       " [the constitution,\n",
       "  a specific somatic polysaccharide,\n",
       "  m. tuberculosis,\n",
       "  human strain],\n",
       " [studies,\n",
       "  sensitivity,\n",
       "  plasticizers,\n",
       "  ortho-nitrobiphenyl, n-isopropyl benzene sulfonamide,\n",
       "  n-isopropyl benzene sulfonamide,\n",
       "  n-isopropyl ortho,\n",
       "  toluene sulfonamide],\n",
       " [streptomycin; isolation, mannosidostreptomycin],\n",
       " [antibiotic substances,\n",
       "  the heart wood,\n",
       "  thuja plicata,\n",
       "  d. don,\n",
       "  the constitution],\n",
       " [fundamentals, the care, arthritis],\n",
       " [developmental coxa vara],\n",
       " [simplified apparatus, collapse therapy],\n",
       " [gynecologic investigation, patients, state eleemosynary institutions],\n",
       " [cataracts, maternal rubella],\n",
       " [fecalith, the large intestine, obstruction, cancer],\n",
       " [],\n",
       " [the role, anxiety, somatic disease],\n",
       " [carcinoma, the cervix uteri, a an analysis, 790 cases],\n",
       " [interrelationship,\n",
       "  pituitary growth factor,\n",
       "  growth-promoting androgens,\n",
       "  acromegaly,\n",
       "  gigantism,\n",
       "  quantitative evaluation,\n",
       "  bone,\n",
       "  soft tissue growth,\n",
       "  acromegaly,\n",
       "  gigantism],\n",
       " [the surface areas, some solid absorbents, possible use, chromatography],\n",
       " [the control,\n",
       "  arrhythmias,\n",
       "  operation,\n",
       "  the valves,\n",
       "  the heart,\n",
       "  experimental and clinical observations],\n",
       " [the influence, different maze surroundings, learning],\n",
       " [application,\n",
       "  an improved glucuronidase,\n",
       "  method,\n",
       "  the study,\n",
       "  human blood beta-glucuronidase],\n",
       " [the use, n., neurotization, n. radialis, cases, very large defects],\n",
       " [social and clinical features,\n",
       "  chronic alcoholism,\n",
       "  a study,\n",
       "  231 male patients]]"
      ]
     },
     "execution_count": 293,
     "metadata": {},
     "output_type": "execute_result"
    }
   ],
   "source": [
    "aaa"
   ]
  },
  {
   "cell_type": "code",
   "execution_count": 278,
   "metadata": {},
   "outputs": [],
   "source": [
    "OUTPUT = sss.groupby('year')['workingtitle'].apply(lambda x: get_cog_ext(x.values))\n",
    "#careful, this line takes about 15 minutes to run"
   ]
  },
  {
   "cell_type": "code",
   "execution_count": 286,
   "metadata": {},
   "outputs": [],
   "source": [
    "plt.rcParams['figure.figsize'] = [10,7]"
   ]
  },
  {
   "cell_type": "code",
   "execution_count": 287,
   "metadata": {},
   "outputs": [
    {
     "data": {
      "text/plain": [
       "Text(0.5, 1.0, 'Cognitive Extent: Unique Noun Phrases Per Year')"
      ]
     },
     "execution_count": 287,
     "metadata": {},
     "output_type": "execute_result"
    },
    {
     "data": {
      "image/png": "[encoded data removed]",
      "text/plain": [
       "<Figure size 720x504 with 1 Axes>"
      ]
     },
     "metadata": {},
     "output_type": "display_data"
    }
   ],
   "source": [
    "plt.plot(OUTPUT)\n",
    "plt.title(\"Cognitive Extent: Unique Noun Phrases Per Year\")"
   ]
  },
  {
   "cell_type": "code",
   "execution_count": null,
   "metadata": {},
   "outputs": [],
   "source": [
    "## I also looked into using spacey's built in semantic similarty, but because it's not using biomed vectors, the \n",
    "#results were unusable."
   ]
  }
 ],
 "metadata": {
  "kernelspec": {
   "display_name": "Python 3",
   "language": "python",
   "name": "python3"
  },
  "language_info": {
   "codemirror_mode": {
    "name": "ipython",
    "version": 3
   },
   "file_extension": ".py",
   "mimetype": "text/x-python",
   "name": "python",
   "nbconvert_exporter": "python",
   "pygments_lexer": "ipython3",
   "version": "3.7.3"
  }
 },
 "nbformat": 4,
 "nbformat_minor": 2
}
